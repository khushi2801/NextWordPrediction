{
 "cells": [
  {
   "cell_type": "markdown",
   "id": "4a75b442",
   "metadata": {},
   "source": [
    "# Importing Libraries"
   ]
  },
  {
   "cell_type": "code",
   "execution_count": 2,
   "id": "7f696439",
   "metadata": {},
   "outputs": [],
   "source": [
    "import numpy as np\n",
    "import matplotlib.pyplot as plt\n",
    "from keras.layers import LSTM, Dense, Activation\n",
    "from keras.models import Sequential, load_model\n",
    "from tensorflow.keras.optimizers import Adam\n",
    "import pickle\n",
    "import heapq\n",
    "import string"
   ]
  },
  {
   "cell_type": "markdown",
   "id": "41ccee4f",
   "metadata": {},
   "source": [
    "# Loading Data"
   ]
  },
  {
   "cell_type": "code",
   "execution_count": 3,
   "id": "05b6a1ca",
   "metadata": {},
   "outputs": [
    {
     "name": "stdout",
     "output_type": "stream",
     "text": [
      "Length of data:  581873\n"
     ]
    }
   ],
   "source": [
    "data = open(\"data.txt\", \"r\", encoding = \"utf8\").read().lower()\n",
    "print(\"Length of data: \", len(data))"
   ]
  },
  {
   "cell_type": "markdown",
   "id": "3dd8fff1",
   "metadata": {},
   "source": [
    "# Data Preprocessing"
   ]
  },
  {
   "cell_type": "code",
   "execution_count": 4,
   "id": "bff9d906",
   "metadata": {},
   "outputs": [
    {
     "data": {
      "text/plain": [
       "\"project gutenberg's the adventures of sherlock holmes, by arthur conan doylethis ebook is for the use of anyone anywhere at no cost and withalmost no restrictions whatsoever.  you may copy it, give it away orre-use it under the terms of the project gutenberg license includedwith this ebook or online at www.gutenberg.nettitle: the adventures of sherlock holmesauthor: arthur conan doylerelease date: november 29, 2002 [ebook #1661]last updated: may 20, 2019language: englishcharacter set encoding: u\""
      ]
     },
     "execution_count": 4,
     "metadata": {},
     "output_type": "execute_result"
    }
   ],
   "source": [
    "# Removing unwanted characters\n",
    "data = data.replace('\\n', '').replace('\\r', '').replace('\\ufeff', '')\n",
    "data[:500]"
   ]
  },
  {
   "cell_type": "code",
   "execution_count": 5,
   "id": "2e07a45a",
   "metadata": {},
   "outputs": [
    {
     "data": {
      "text/plain": [
       "'project gutenberg s the adventures of sherlock holmes  by arthur conan doylethis ebook is for the use of anyone anywhere at no cost and withalmost no restrictions whatsoever   you may copy it  give it away orre use it under the terms of the project gutenberg license includedwith this ebook or online at www gutenberg nettitle  the adventures of sherlock holmesauthor  arthur conan doylerelease date  november 29  2002  ebook  1661 last updated  may 20  2019language  englishcharacter set encoding  u'"
      ]
     },
     "execution_count": 5,
     "metadata": {},
     "output_type": "execute_result"
    }
   ],
   "source": [
    "# Mapping punctuation to space\n",
    "translator = str.maketrans(string.punctuation, ' '*len(string.punctuation))\n",
    "data = data.translate(translator)\n",
    "data[:500]"
   ]
  },
  {
   "cell_type": "code",
   "execution_count": 6,
   "id": "6ead3008",
   "metadata": {},
   "outputs": [
    {
     "name": "stdout",
     "output_type": "stream",
     "text": [
      "Length of data:  120516\n"
     ]
    },
    {
     "data": {
      "text/plain": [
       "'project gutenberg s the adventures of sherlock holmes by arthur conan doylethis ebook is for use anyone anywhere at no cost and withalmost restrictions whatsoever you may copy it give away orre under terms license includedwith this or online www nettitle holmesauthor doylerelease date november 29 2002 1661 last updated 20 2019language englishcharacter set encoding utf 8 start produced an anonymous volunteer jose menendezcoverthe holmesby doylecontents i a scandal in bohemia ii red headed league '"
      ]
     },
     "execution_count": 6,
     "metadata": {},
     "output_type": "execute_result"
    }
   ],
   "source": [
    "# Removing repeated words\n",
    "text = []\n",
    "for i in data.split():\n",
    "    if i not in text:\n",
    "        text.append(i)  \n",
    "data = ' '.join(text)\n",
    "print(\"Length of data: \", len(data))\n",
    "data[:500]"
   ]
  },
  {
   "cell_type": "code",
   "execution_count": 7,
   "id": "319dd0eb",
   "metadata": {},
   "outputs": [],
   "source": [
    "# Finding unique characters in the corpus\n",
    "chars = sorted(list(set(data)))\n",
    "char_indices = dict((c, i) for i, c in enumerate(chars))\n",
    "indices_char = dict((i, c) for i, c in enumerate(chars))"
   ]
  },
  {
   "cell_type": "code",
   "execution_count": 8,
   "id": "fb32e5e3",
   "metadata": {},
   "outputs": [
    {
     "name": "stdout",
     "output_type": "stream",
     "text": [
      "Total unique characters are:  50\n"
     ]
    }
   ],
   "source": [
    "# Printing length of total characters\n",
    "chars_size = len(chars)\n",
    "print (\"Total unique characters are: \", chars_size)"
   ]
  },
  {
   "cell_type": "code",
   "execution_count": 9,
   "id": "39123a99",
   "metadata": {},
   "outputs": [
    {
     "name": "stdout",
     "output_type": "stream",
     "text": [
      "Total input sentences:  40159\n"
     ]
    }
   ],
   "source": [
    "# Dividing data into chuncks of 39 characters\n",
    "SEQUENCE_LENGTH = 39\n",
    "step = 3\n",
    "sentences = []\n",
    "next_chars = []\n",
    "for i in range(0, len(data) - SEQUENCE_LENGTH, step):\n",
    "    sentences.append(data[i:i+SEQUENCE_LENGTH])\n",
    "    next_chars.append(data[i+SEQUENCE_LENGTH])\n",
    "print ('Total input sentences: ', len(sentences))"
   ]
  },
  {
   "cell_type": "code",
   "execution_count": 10,
   "id": "7b13d1aa",
   "metadata": {},
   "outputs": [
    {
     "name": "stderr",
     "output_type": "stream",
     "text": [
      "C:\\Users\\TEMP\\ipykernel_820\\2849521147.py:2: DeprecationWarning: `np.bool` is a deprecated alias for the builtin `bool`. To silence this warning, use `bool` by itself. Doing this will not modify any behavior and is safe. If you specifically wanted the numpy scalar type, use `np.bool_` here.\n",
      "Deprecated in NumPy 1.20; for more details and guidance: https://numpy.org/devdocs/release/1.20.0-notes.html#deprecations\n",
      "  x = np.zeros((len(sentences), SEQUENCE_LENGTH, chars_size), dtype=np.bool)\n",
      "C:\\Users\\TEMP\\ipykernel_820\\2849521147.py:3: DeprecationWarning: `np.bool` is a deprecated alias for the builtin `bool`. To silence this warning, use `bool` by itself. Doing this will not modify any behavior and is safe. If you specifically wanted the numpy scalar type, use `np.bool_` here.\n",
      "Deprecated in NumPy 1.20; for more details and guidance: https://numpy.org/devdocs/release/1.20.0-notes.html#deprecations\n",
      "  y = np.zeros((len(sentences), chars_size), dtype=np.bool)\n"
     ]
    },
    {
     "name": "stdout",
     "output_type": "stream",
     "text": [
      "Features: \n",
      " [[False False False ... False False False]\n",
      " [False False False ... False False False]\n",
      " [False False False ... False False False]\n",
      " ...\n",
      " [False False False ... False False False]\n",
      " [ True False False ... False False False]\n",
      " [False False False ... False False False]]\n",
      "\n",
      "Labels: \n",
      " [False False False False False False False False False False False False\n",
      " False False False False False False  True False False False False False\n",
      " False False False False False False False False False False False False\n",
      " False False False False False False False False False False False False\n",
      " False False]\n"
     ]
    }
   ],
   "source": [
    "# Generating features and labels\n",
    "x = np.zeros((len(sentences), SEQUENCE_LENGTH, chars_size), dtype=np.bool)\n",
    "y = np.zeros((len(sentences), chars_size), dtype=np.bool)\n",
    "for i, sentence in enumerate(sentences):\n",
    "    for j, char in enumerate(sentence):\n",
    "        x[i, j, char_indices[char]] = 1\n",
    "    y[i, char_indices[next_chars[i]]] = 1\n",
    "print(\"Features: \\n\", x[0])\n",
    "print(\"\\nLabels: \\n\", y[0])"
   ]
  },
  {
   "cell_type": "markdown",
   "id": "11058bfb",
   "metadata": {},
   "source": [
    "# Building Model "
   ]
  },
  {
   "cell_type": "code",
   "execution_count": 28,
   "id": "4c0ecb37",
   "metadata": {},
   "outputs": [],
   "source": [
    "# Creating model\n",
    "model2 = Sequential();\n",
    "model2.add(LSTM(128, input_shape=(SEQUENCE_LENGTH, chars_size), return_sequences=True))\n",
    "model2.add(LSTM(128, input_shape=(SEQUENCE_LENGTH, chars_size)))\n",
    "model2.add(Dense(1000, activation=\"relu\"))\n",
    "model2.add(Dense(chars_size, activation=\"softmax\"))"
   ]
  },
  {
   "cell_type": "code",
   "execution_count": 29,
   "id": "7978c3e6",
   "metadata": {},
   "outputs": [
    {
     "name": "stdout",
     "output_type": "stream",
     "text": [
      "Model: \"sequential_5\"\n",
      "_________________________________________________________________\n",
      " Layer (type)                Output Shape              Param #   \n",
      "=================================================================\n",
      " lstm_10 (LSTM)              (None, 39, 128)           91648     \n",
      "                                                                 \n",
      " lstm_11 (LSTM)              (None, 128)               131584    \n",
      "                                                                 \n",
      " dense_10 (Dense)            (None, 1000)              129000    \n",
      "                                                                 \n",
      " dense_11 (Dense)            (None, 50)                50050     \n",
      "                                                                 \n",
      "=================================================================\n",
      "Total params: 402,282\n",
      "Trainable params: 402,282\n",
      "Non-trainable params: 0\n",
      "_________________________________________________________________\n"
     ]
    }
   ],
   "source": [
    "# Printing model summary\n",
    "model2.summary()"
   ]
  },
  {
   "cell_type": "code",
   "execution_count": 30,
   "id": "29661206",
   "metadata": {},
   "outputs": [
    {
     "name": "stdout",
     "output_type": "stream",
     "text": [
      "Epoch 1/20\n",
      "597/597 [==============================] - 96s 152ms/step - loss: 2.6893 - accuracy: 0.2124 - val_loss: 2.5165 - val_accuracy: 0.2570\n",
      "Epoch 2/20\n",
      "597/597 [==============================] - 82s 137ms/step - loss: 2.3665 - accuracy: 0.2885 - val_loss: 2.3970 - val_accuracy: 0.2978\n",
      "Epoch 3/20\n",
      "597/597 [==============================] - 81s 136ms/step - loss: 2.2397 - accuracy: 0.3211 - val_loss: 2.3405 - val_accuracy: 0.3202\n",
      "Epoch 4/20\n",
      "597/597 [==============================] - 81s 135ms/step - loss: 2.1405 - accuracy: 0.3456 - val_loss: 2.2758 - val_accuracy: 0.3147\n",
      "Epoch 5/20\n",
      "597/597 [==============================] - 84s 140ms/step - loss: 2.0506 - accuracy: 0.3705 - val_loss: 2.2422 - val_accuracy: 0.3367\n",
      "Epoch 6/20\n",
      "597/597 [==============================] - 80s 134ms/step - loss: 1.9636 - accuracy: 0.3930 - val_loss: 2.2831 - val_accuracy: 0.3531\n",
      "Epoch 7/20\n",
      "597/597 [==============================] - 80s 134ms/step - loss: 1.8781 - accuracy: 0.4141 - val_loss: 2.2647 - val_accuracy: 0.3466\n",
      "Epoch 8/20\n",
      "597/597 [==============================] - 79s 132ms/step - loss: 1.7908 - accuracy: 0.4379 - val_loss: 2.3760 - val_accuracy: 0.3511\n",
      "Epoch 9/20\n",
      "597/597 [==============================] - 79s 133ms/step - loss: 1.7040 - accuracy: 0.4647 - val_loss: 2.5246 - val_accuracy: 0.3536\n",
      "Epoch 10/20\n",
      "597/597 [==============================] - 88s 147ms/step - loss: 1.6248 - accuracy: 0.4833 - val_loss: 2.4694 - val_accuracy: 0.3506\n",
      "Epoch 11/20\n",
      "597/597 [==============================] - 89s 149ms/step - loss: 1.5413 - accuracy: 0.5073 - val_loss: 2.6141 - val_accuracy: 0.3486\n",
      "Epoch 12/20\n",
      "597/597 [==============================] - 91s 153ms/step - loss: 1.4750 - accuracy: 0.5284 - val_loss: 2.8787 - val_accuracy: 0.3362\n",
      "Epoch 13/20\n",
      "597/597 [==============================] - 94s 157ms/step - loss: 1.4010 - accuracy: 0.5478 - val_loss: 3.0863 - val_accuracy: 0.3456\n",
      "Epoch 14/20\n",
      "597/597 [==============================] - 88s 147ms/step - loss: 1.3410 - accuracy: 0.5675 - val_loss: 2.9874 - val_accuracy: 0.3332\n",
      "Epoch 15/20\n",
      "597/597 [==============================] - 85s 143ms/step - loss: 1.2832 - accuracy: 0.5845 - val_loss: 3.2149 - val_accuracy: 0.3347\n",
      "Epoch 16/20\n",
      "597/597 [==============================] - 92s 154ms/step - loss: 1.2177 - accuracy: 0.6044 - val_loss: 3.2552 - val_accuracy: 0.3182\n",
      "Epoch 17/20\n",
      "597/597 [==============================] - 91s 153ms/step - loss: 1.1642 - accuracy: 0.6210 - val_loss: 3.3986 - val_accuracy: 0.3327\n",
      "Epoch 18/20\n",
      "597/597 [==============================] - 86s 144ms/step - loss: 1.1088 - accuracy: 0.6388 - val_loss: 3.6097 - val_accuracy: 0.3292\n",
      "Epoch 19/20\n",
      "597/597 [==============================] - 86s 145ms/step - loss: 1.0512 - accuracy: 0.6579 - val_loss: 3.7120 - val_accuracy: 0.3287\n",
      "Epoch 20/20\n",
      "597/597 [==============================] - 89s 148ms/step - loss: 1.0202 - accuracy: 0.6692 - val_loss: 3.9250 - val_accuracy: 0.3247\n"
     ]
    }
   ],
   "source": [
    "# Training model\n",
    "model2.compile(loss = \"categorical_crossentropy\", optimizer = Adam(lr = 0.01), metrics = ['accuracy'])\n",
    "history2 = model2.fit(x, y, validation_split = 0.05, epochs = 20, batch_size = 64).history"
   ]
  },
  {
   "cell_type": "code",
   "execution_count": 31,
   "id": "1cbde2d6",
   "metadata": {},
   "outputs": [],
   "source": [
    "# Saving model\n",
    "model2.save('model2.h5')\n",
    "pickle.dump(history2, open('history2.p', 'wb'))"
   ]
  },
  {
   "cell_type": "markdown",
   "id": "3ab7b600",
   "metadata": {},
   "source": [
    "## Evaluating Model"
   ]
  },
  {
   "cell_type": "code",
   "execution_count": 33,
   "id": "4ab79808",
   "metadata": {},
   "outputs": [
    {
     "data": {
      "text/plain": [
       "<matplotlib.legend.Legend at 0x1f682feba90>"
      ]
     },
     "execution_count": 33,
     "metadata": {},
     "output_type": "execute_result"
    },
    {
     "data": {
      "image/png": "[encoded data removed]",
      "text/plain": [
       "<Figure size 432x288 with 1 Axes>"
      ]
     },
     "metadata": {
      "needs_background": "light"
     },
     "output_type": "display_data"
    }
   ],
   "source": [
    "# Plotting model accuracy\n",
    "plt.plot(history2['accuracy'])\n",
    "plt.plot(history2['val_accuracy'])\n",
    "plt.title('Model Accuracy')\n",
    "plt.ylabel('Accuracy')\n",
    "plt.xlabel('Epoch')\n",
    "plt.legend(['Train', 'Test'], loc= 'upper left')"
   ]
  },
  {
   "cell_type": "code",
   "execution_count": 34,
   "id": "dc6b22cd",
   "metadata": {},
   "outputs": [
    {
     "data": {
      "text/plain": [
       "<matplotlib.legend.Legend at 0x1f68311ed90>"
      ]
     },
     "execution_count": 34,
     "metadata": {},
     "output_type": "execute_result"
    },
    {
     "data": {
      "image/png": "[encoded data removed]",
      "text/plain": [
       "<Figure size 432x288 with 1 Axes>"
      ]
     },
     "metadata": {
      "needs_background": "light"
     },
     "output_type": "display_data"
    }
   ],
   "source": [
    "# Plotting model loss\n",
    "plt.plot(history2['loss'])\n",
    "plt.plot(history2['val_loss'])\n",
    "plt.title('Model Loss')\n",
    "plt.ylabel('Loss')\n",
    "plt.xlabel('Epoch')\n",
    "plt.legend(['Train', 'Test'], loc= 'upper left')"
   ]
  },
  {
   "cell_type": "markdown",
   "id": "daff7fc7",
   "metadata": {},
   "source": [
    "## Making Prediction"
   ]
  },
  {
   "cell_type": "code",
   "execution_count": 11,
   "id": "c60f7555",
   "metadata": {},
   "outputs": [],
   "source": [
    "# Loading model\n",
    "model2 = load_model('model2.h5')\n",
    "history2 = pickle.load(open('history2.p', 'rb'))"
   ]
  },
  {
   "cell_type": "code",
   "execution_count": 12,
   "id": "6cc8475a",
   "metadata": {},
   "outputs": [],
   "source": [
    "# Prepare Input function: This function creates input features for given sentence\n",
    "def prepare_input(text):\n",
    "    x = np.zeros((1, SEQUENCE_LENGTH, len(chars)))\n",
    "    for t, char in enumerate(text):\n",
    "        x[0, t, char_indices[char]] = 1.\n",
    "    return x"
   ]
  },
  {
   "cell_type": "code",
   "execution_count": 13,
   "id": "ee95fa2c",
   "metadata": {},
   "outputs": [],
   "source": [
    "# Sample function: This function allows us to ask our model what are the next probable characters\n",
    "def sample(preds, top_n = 3):\n",
    "    preds = np.asarray(preds).astype('float64')\n",
    "    preds = np.log(preds)\n",
    "    exp_preds = np.exp(preds)\n",
    "    preds = exp_preds / np.sum(exp_preds)\n",
    "    return heapq.nlargest(top_n, range(len(preds)), preds.take)"
   ]
  },
  {
   "cell_type": "code",
   "execution_count": 14,
   "id": "e6486cba",
   "metadata": {},
   "outputs": [],
   "source": [
    "# Predict Completion function: This function is used to predict next characters\n",
    "def predict_completion(text):\n",
    "    original_text = text\n",
    "    generalised = text\n",
    "    completion = ''\n",
    "    while True:\n",
    "        x = prepare_input(text)\n",
    "        preds = model2.predict(x, verbose=0)[0]\n",
    "        next_index = sample(preds, top_n=1)[0]\n",
    "        next_char = indices_char[next_index]\n",
    "        text = text[1:] + next_char\n",
    "        completion += next_char\n",
    "        if len(original_text + completion) + 2 > len(original_text) and next_char == ' ':\n",
    "            return completion"
   ]
  },
  {
   "cell_type": "code",
   "execution_count": 15,
   "id": "ec934435",
   "metadata": {},
   "outputs": [],
   "source": [
    "# Predict Completions function: This function wraps everything and allows us to predict multiple completions\n",
    "def predict_completions(text, n=3):\n",
    "    x = prepare_input(text)\n",
    "    preds = model2.predict(x, verbose=0)[0]\n",
    "    next_indices = sample(preds, n)\n",
    "    return [indices_char[i] + predict_completions(text[1:] + indices_char[i]) for i in next_indices]"
   ]
  },
  {
   "cell_type": "code",
   "execution_count": 15,
   "id": "5ca0cc86",
   "metadata": {},
   "outputs": [],
   "source": [
    "# q = \"You can get everything you want in your life if you just help other people get what they want\"\n",
    "# seq = q[:20].lower()\n",
    "# print(seq)\n",
    "# print(predict_completions(seq, 5))\n",
    "# print()"
   ]
  },
  {
   "cell_type": "code",
   "execution_count": 44,
   "id": "843414ab",
   "metadata": {},
   "outputs": [],
   "source": [
    "quotes = [\n",
    "    \"It is not a lack of love but a lack of friendship that makes unhappy marriages.\",\n",
    "    \"That which does not kill us makes us stronger.\",\n",
    "    \"And those who were seen dancing were thought to be insane by those who could not hear the music.\",\n",
    "    \"It is hard enough to remember my opinions without also remembering my reasons for them.\"\n",
    "]"
   ]
  },
  {
   "cell_type": "code",
   "execution_count": null,
   "id": "ffccfc1c",
   "metadata": {},
   "outputs": [
    {
     "name": "stdout",
     "output_type": "stream",
     "text": [
      "it is not a lack of love but a lack of \n"
     ]
    },
    {
     "name": "stderr",
     "output_type": "stream",
     "text": [
      "C:\\Users\\TEMP\\ipykernel_10684\\3805818334.py:4: RuntimeWarning: divide by zero encountered in log\n",
      "  preds = np.log(preds)\n"
     ]
    }
   ],
   "source": [
    "for q in quotes:\n",
    "    seq = q[:SEQUENCE_LENGTH].lower()\n",
    "    print(seq)\n",
    "    print(predict_completions(seq, 5))\n",
    "    print()"
   ]
  },
  {
   "cell_type": "code",
   "execution_count": null,
   "id": "c5fb6619",
   "metadata": {},
   "outputs": [
    {
     "name": "stdout",
     "output_type": "stream",
     "text": [
      "Enter the words: It is not a lack of love but a lack of friendship\n",
      "it is not a lack of love but a lack of \n"
     ]
    },
    {
     "name": "stderr",
     "output_type": "stream",
     "text": [
      "C:\\Users\\TEMP\\ipykernel_820\\3805818334.py:4: RuntimeWarning: divide by zero encountered in log\n",
      "  preds = np.log(preds)\n"
     ]
    }
   ],
   "source": [
    "while(True):\n",
    "    q = input(\"Enter the words: \")\n",
    "    if text == \"Stop\":\n",
    "        break\n",
    "    else:\n",
    "        seq = q[:SEQUENCE_LENGTH].lower()\n",
    "        print(seq)\n",
    "        print(predict_completions(seq, 5))\n",
    "        print()"
   ]
  },
  {
   "cell_type": "code",
   "execution_count": null,
   "id": "2638cc68",
   "metadata": {},
   "outputs": [],
   "source": []
  }
 ],
 "metadata": {
  "kernelspec": {
   "display_name": "Python 3 (ipykernel)",
   "language": "python",
   "name": "python3"
  },
  "language_info": {
   "codemirror_mode": {
    "name": "ipython",
    "version": 3
   },
   "file_extension": ".py",
   "mimetype": "text/x-python",
   "name": "python",
   "nbconvert_exporter": "python",
   "pygments_lexer": "ipython3",
   "version": "3.8.8"
  }
 },
 "nbformat": 4,
 "nbformat_minor": 5
}
