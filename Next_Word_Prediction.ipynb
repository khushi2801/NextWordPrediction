{
 "cells": [
  {
   "cell_type": "markdown",
   "id": "4a75b442",
   "metadata": {},
   "source": [
    "# Importing Libraries"
   ]
  },
  {
   "cell_type": "code",
   "execution_count": 1,
   "id": "7f696439",
   "metadata": {},
   "outputs": [],
   "source": [
    "import numpy as np\n",
    "import matplotlib.pyplot as plt\n",
    "from keras.layers import LSTM, Dense, Activation\n",
    "from keras.models import Sequential, load_model\n",
    "from tensorflow.keras.optimizers import Adam\n",
    "import pickle\n",
    "import heapq\n",
    "import string"
   ]
  },
  {
   "cell_type": "markdown",
   "id": "41ccee4f",
   "metadata": {},
   "source": [
    "# Loading Data"
   ]
  },
  {
   "cell_type": "code",
   "execution_count": 2,
   "id": "05b6a1ca",
   "metadata": {},
   "outputs": [
    {
     "name": "stdout",
     "output_type": "stream",
     "text": [
      "Length of data:  581870\n"
     ]
    },
    {
     "data": {
      "text/plain": [
       "\"project gutenberg's the adventures of sherlock holmes, by arthur conan doyle\\n\\nthis ebook is for the use of anyone anywhere at no cost and with\\nalmost no restrictions whatsoever.  you may copy it, give it away or\\nre-use it under the terms of the project gutenberg license included\\nwith this ebook or online at www.gutenberg.net\\n\\ntitle: the adventures of sherlock holmes\\n\\nauthor: arthur conan doyle\\n\\nrelease date: november 29, 2002 [ebook #1661]\\nlast updated: may 20, 2019\\n\\nlanguage: english\\n\\ncharacter\""
      ]
     },
     "execution_count": 2,
     "metadata": {},
     "output_type": "execute_result"
    }
   ],
   "source": [
    "data = open(\"data.txt\", \"r\", encoding = \"utf8\").read().lower()\n",
    "print(\"Length of data: \", len(data))\n",
    "data[:500]"
   ]
  },
  {
   "cell_type": "markdown",
   "id": "3dd8fff1",
   "metadata": {},
   "source": [
    "# Data Preprocessing"
   ]
  },
  {
   "cell_type": "markdown",
   "id": "f7839038",
   "metadata": {},
   "source": [
    "### Cleaning Data"
   ]
  },
  {
   "cell_type": "code",
   "execution_count": 3,
   "id": "bff9d906",
   "metadata": {},
   "outputs": [
    {
     "name": "stdout",
     "output_type": "stream",
     "text": [
      "Length of data:  581870\n"
     ]
    },
    {
     "data": {
      "text/plain": [
       "\"project gutenberg's the adventures of sherlock holmes, by arthur conan doyle  this ebook is for the use of anyone anywhere at no cost and with almost no restrictions whatsoever.  you may copy it, give it away or re-use it under the terms of the project gutenberg license included with this ebook or online at www.gutenberg.net  title: the adventures of sherlock holmes  author: arthur conan doyle  release date: november 29, 2002 [ebook #1661] last updated: may 20, 2019  language: english  character\""
      ]
     },
     "execution_count": 3,
     "metadata": {},
     "output_type": "execute_result"
    }
   ],
   "source": [
    "data = data.replace('\\n', ' ')\n",
    "print(\"Length of data: \", len(data))\n",
    "data[:500]"
   ]
  },
  {
   "cell_type": "code",
   "execution_count": 4,
   "id": "6ead3008",
   "metadata": {},
   "outputs": [
    {
     "name": "stdout",
     "output_type": "stream",
     "text": [
      "Length of data:  121909\n"
     ]
    },
    {
     "data": {
      "text/plain": [
       "\"project gutenberg's the adventures of sherlock holmes, by arthur conan doyle this ebook is for use anyone anywhere at no cost and with almost restrictions whatsoever. you may copy it, give it away or re-use under terms gutenberg license included online www.gutenberg.net title: holmes author: release date: november 29, 2002 [ebook #1661] last updated: 20, 2019 language: english character set encoding: utf-8 *** start produced an anonymous volunteer jose menendez cover contents i. a scandal in boh\""
      ]
     },
     "execution_count": 4,
     "metadata": {},
     "output_type": "execute_result"
    }
   ],
   "source": [
    "# Replacing multiple spaces with single spaces\n",
    "text = []\n",
    "for i in data.split():\n",
    "    if i not in text:\n",
    "        text.append(i)  \n",
    "data = ' '.join(text)\n",
    "print(\"Length of data: \", len(data))\n",
    "data[:500]"
   ]
  },
  {
   "cell_type": "code",
   "execution_count": 5,
   "id": "319dd0eb",
   "metadata": {},
   "outputs": [
    {
     "name": "stdout",
     "output_type": "stream",
     "text": [
      "Total unique characters are:  71\n"
     ]
    }
   ],
   "source": [
    "# Finding unique characters in the corpus\n",
    "chars = sorted(list(set(data)))\n",
    "chars_size = len(chars)\n",
    "print (\"Total unique characters are: \", chars_size)"
   ]
  },
  {
   "cell_type": "code",
   "execution_count": 6,
   "id": "fb32e5e3",
   "metadata": {},
   "outputs": [],
   "source": [
    "# Indexing characters\n",
    "char_indices = dict((c, i) for i, c in enumerate(chars))\n",
    "indices_char = dict((i, c) for i, c in enumerate(chars))"
   ]
  },
  {
   "cell_type": "code",
   "execution_count": 7,
   "id": "a397dd83",
   "metadata": {},
   "outputs": [],
   "source": [
    "# Saving char_indices and indices_char dictionary\n",
    "pickle.dump(char_indices, open('char_indices.pkl', 'wb'))\n",
    "pickle.dump(indices_char, open('indices_char.pkl', 'wb'))"
   ]
  },
  {
   "cell_type": "markdown",
   "id": "b25e366c",
   "metadata": {},
   "source": [
    "### Feature Extraction"
   ]
  },
  {
   "cell_type": "code",
   "execution_count": 8,
   "id": "39123a99",
   "metadata": {},
   "outputs": [
    {
     "name": "stdout",
     "output_type": "stream",
     "text": [
      "Total input sentences:  40623\n"
     ]
    }
   ],
   "source": [
    "# Dividing text into chuncks of 40 characters\n",
    "SEQUENCE_LENGTH = 40\n",
    "step = 3\n",
    "sentences = []\n",
    "next_chars = []\n",
    "for i in range(0, len(data) - SEQUENCE_LENGTH, step):\n",
    "    sentences.append(data[i:i+SEQUENCE_LENGTH])\n",
    "    next_chars.append(data[i+SEQUENCE_LENGTH])\n",
    "print ('Total input sentences: ', len(sentences))"
   ]
  },
  {
   "cell_type": "code",
   "execution_count": 9,
   "id": "7b13d1aa",
   "metadata": {},
   "outputs": [
    {
     "name": "stderr",
     "output_type": "stream",
     "text": [
      "C:\\Users\\TEMP\\ipykernel_6756\\57373370.py:2: DeprecationWarning: `np.bool` is a deprecated alias for the builtin `bool`. To silence this warning, use `bool` by itself. Doing this will not modify any behavior and is safe. If you specifically wanted the numpy scalar type, use `np.bool_` here.\n",
      "Deprecated in NumPy 1.20; for more details and guidance: https://numpy.org/devdocs/release/1.20.0-notes.html#deprecations\n",
      "  x = np.zeros((len(sentences), SEQUENCE_LENGTH, len(chars)), dtype=np.bool)\n",
      "C:\\Users\\TEMP\\ipykernel_6756\\57373370.py:3: DeprecationWarning: `np.bool` is a deprecated alias for the builtin `bool`. To silence this warning, use `bool` by itself. Doing this will not modify any behavior and is safe. If you specifically wanted the numpy scalar type, use `np.bool_` here.\n",
      "Deprecated in NumPy 1.20; for more details and guidance: https://numpy.org/devdocs/release/1.20.0-notes.html#deprecations\n",
      "  y = np.zeros((len(sentences), len(chars)), dtype=np.bool)\n"
     ]
    },
    {
     "name": "stdout",
     "output_type": "stream",
     "text": [
      "Features: \n",
      " [[False False False ... False False False]\n",
      " [False False False ... False False False]\n",
      " [False False False ... False False False]\n",
      " ...\n",
      " [ True False False ... False False False]\n",
      " [False False False ... False False False]\n",
      " [False False False ... False False False]]\n",
      "\n",
      "Labels: \n",
      " [False False False False False False False False False False False False\n",
      " False False False False False False False False False False False False\n",
      " False False False False False False False False False False False False\n",
      "  True False False False False False False False False False False False\n",
      " False False False False False False False False False False False False\n",
      " False False False False False False False False False False False]\n"
     ]
    }
   ],
   "source": [
    "# Generating features and labels\n",
    "x = np.zeros((len(sentences), SEQUENCE_LENGTH, len(chars)), dtype=np.bool)\n",
    "y = np.zeros((len(sentences), len(chars)), dtype=np.bool)\n",
    "for i, sentence in enumerate(sentences):\n",
    "    for j, char in enumerate(sentence):\n",
    "        x[i, j, char_indices[char]] = 1\n",
    "    y[i, char_indices[next_chars[i]]] = 1\n",
    "print(\"Features: \\n\", x[0])\n",
    "print(\"\\nLabels: \\n\", y[0])"
   ]
  },
  {
   "cell_type": "markdown",
   "id": "11058bfb",
   "metadata": {},
   "source": [
    "# Building Model "
   ]
  },
  {
   "cell_type": "code",
   "execution_count": 10,
   "id": "b19e47ef",
   "metadata": {},
   "outputs": [],
   "source": [
    "# Creating model\n",
    "model = Sequential();\n",
    "model.add(LSTM(128, input_shape=(SEQUENCE_LENGTH, chars_size), return_sequences=True))\n",
    "model.add(LSTM(128, input_shape=(SEQUENCE_LENGTH, chars_size)))\n",
    "model.add(Dense(1000, activation=\"relu\"))\n",
    "model.add(Dense(chars_size, activation=\"softmax\"))"
   ]
  },
  {
   "cell_type": "code",
   "execution_count": 11,
   "id": "f7b034b1",
   "metadata": {},
   "outputs": [
    {
     "name": "stdout",
     "output_type": "stream",
     "text": [
      "Model: \"sequential\"\n",
      "_________________________________________________________________\n",
      " Layer (type)                Output Shape              Param #   \n",
      "=================================================================\n",
      " lstm (LSTM)                 (None, 40, 128)           102400    \n",
      "                                                                 \n",
      " lstm_1 (LSTM)               (None, 128)               131584    \n",
      "                                                                 \n",
      " dense (Dense)               (None, 1000)              129000    \n",
      "                                                                 \n",
      " dense_1 (Dense)             (None, 71)                71071     \n",
      "                                                                 \n",
      "=================================================================\n",
      "Total params: 434,055\n",
      "Trainable params: 434,055\n",
      "Non-trainable params: 0\n",
      "_________________________________________________________________\n"
     ]
    }
   ],
   "source": [
    "# Printing model summary\n",
    "model.summary()"
   ]
  },
  {
   "cell_type": "code",
   "execution_count": 12,
   "id": "5a19017d",
   "metadata": {},
   "outputs": [
    {
     "name": "stderr",
     "output_type": "stream",
     "text": [
      "C:\\Users\\Khushi\\anaconda3\\lib\\site-packages\\keras\\optimizer_v2\\adam.py:105: UserWarning: The `lr` argument is deprecated, use `learning_rate` instead.\n",
      "  super(Adam, self).__init__(name, **kwargs)\n"
     ]
    },
    {
     "name": "stdout",
     "output_type": "stream",
     "text": [
      "Epoch 1/20\n",
      "603/603 [==============================] - 94s 143ms/step - loss: 2.6057 - accuracy: 0.2336 - val_loss: 2.6874 - val_accuracy: 0.2613\n",
      "Epoch 2/20\n",
      "603/603 [==============================] - 83s 137ms/step - loss: 2.3017 - accuracy: 0.2978 - val_loss: 2.5865 - val_accuracy: 0.2938\n",
      "Epoch 3/20\n",
      "603/603 [==============================] - 79s 132ms/step - loss: 2.1871 - accuracy: 0.3227 - val_loss: 2.5996 - val_accuracy: 0.3071\n",
      "Epoch 4/20\n",
      "603/603 [==============================] - 79s 132ms/step - loss: 2.0928 - accuracy: 0.3454 - val_loss: 2.4827 - val_accuracy: 0.3164\n",
      "Epoch 5/20\n",
      "603/603 [==============================] - 81s 135ms/step - loss: 2.0009 - accuracy: 0.3705 - val_loss: 2.5909 - val_accuracy: 0.3199\n",
      "Epoch 6/20\n",
      "603/603 [==============================] - 83s 138ms/step - loss: 1.9099 - accuracy: 0.3933 - val_loss: 2.5026 - val_accuracy: 0.3391\n",
      "Epoch 7/20\n",
      "603/603 [==============================] - 84s 139ms/step - loss: 1.8206 - accuracy: 0.4178 - val_loss: 2.5740 - val_accuracy: 0.3199\n",
      "Epoch 8/20\n",
      "603/603 [==============================] - 82s 136ms/step - loss: 1.7335 - accuracy: 0.4393 - val_loss: 2.7632 - val_accuracy: 0.3391\n",
      "Epoch 9/20\n",
      "603/603 [==============================] - 82s 137ms/step - loss: 1.6587 - accuracy: 0.4562 - val_loss: 2.8167 - val_accuracy: 0.3322\n",
      "Epoch 10/20\n",
      "603/603 [==============================] - 82s 135ms/step - loss: 1.5817 - accuracy: 0.4790 - val_loss: 2.9558 - val_accuracy: 0.3337\n",
      "Epoch 11/20\n",
      "603/603 [==============================] - 78s 129ms/step - loss: 1.5108 - accuracy: 0.4985 - val_loss: 3.1137 - val_accuracy: 0.3376\n",
      "Epoch 12/20\n",
      "603/603 [==============================] - 76s 126ms/step - loss: 1.4421 - accuracy: 0.5218 - val_loss: 3.2250 - val_accuracy: 0.3258\n",
      "Epoch 13/20\n",
      "603/603 [==============================] - 77s 128ms/step - loss: 1.3752 - accuracy: 0.5386 - val_loss: 3.3085 - val_accuracy: 0.3327\n",
      "Epoch 14/20\n",
      "603/603 [==============================] - 83s 137ms/step - loss: 1.3228 - accuracy: 0.5556 - val_loss: 3.5886 - val_accuracy: 0.3253\n",
      "Epoch 15/20\n",
      "603/603 [==============================] - 79s 132ms/step - loss: 1.2560 - accuracy: 0.5773 - val_loss: 3.6976 - val_accuracy: 0.3248\n",
      "Epoch 16/20\n",
      "603/603 [==============================] - 77s 128ms/step - loss: 1.1972 - accuracy: 0.5949 - val_loss: 3.8215 - val_accuracy: 0.3307\n",
      "Epoch 17/20\n",
      "603/603 [==============================] - 78s 130ms/step - loss: 1.1523 - accuracy: 0.6091 - val_loss: 3.8691 - val_accuracy: 0.3135\n",
      "Epoch 18/20\n",
      "603/603 [==============================] - 80s 133ms/step - loss: 1.0989 - accuracy: 0.6302 - val_loss: 3.9517 - val_accuracy: 0.3278\n",
      "Epoch 19/20\n",
      "603/603 [==============================] - 80s 133ms/step - loss: 1.0415 - accuracy: 0.6471 - val_loss: 4.2638 - val_accuracy: 0.3135\n",
      "Epoch 20/20\n",
      "603/603 [==============================] - 77s 128ms/step - loss: 1.0007 - accuracy: 0.6607 - val_loss: 4.6330 - val_accuracy: 0.3189\n"
     ]
    }
   ],
   "source": [
    "# Training model\n",
    "model.compile(loss = \"categorical_crossentropy\", optimizer = Adam(lr = 0.01), metrics = ['accuracy'])\n",
    "history = model.fit(x, y, validation_split = 0.05, epochs = 20, batch_size = 64).history"
   ]
  },
  {
   "cell_type": "code",
   "execution_count": 13,
   "id": "1cbde2d6",
   "metadata": {},
   "outputs": [],
   "source": [
    "# Saving model\n",
    "model.save('model.h5')\n",
    "pickle.dump(history, open('history.p', 'wb'))"
   ]
  },
  {
   "cell_type": "markdown",
   "id": "3ab7b600",
   "metadata": {},
   "source": [
    "## Evaluating Model"
   ]
  },
  {
   "cell_type": "code",
   "execution_count": 14,
   "id": "4ab79808",
   "metadata": {},
   "outputs": [
    {
     "data": {
      "text/plain": [
       "<matplotlib.legend.Legend at 0x207d800ba90>"
      ]
     },
     "execution_count": 14,
     "metadata": {},
     "output_type": "execute_result"
    },
    {
     "data": {
      "image/png": "[encoded data removed]",
      "text/plain": [
       "<Figure size 432x288 with 1 Axes>"
      ]
     },
     "metadata": {
      "needs_background": "light"
     },
     "output_type": "display_data"
    }
   ],
   "source": [
    "# Accuracy\n",
    "plt.plot(history['accuracy'])\n",
    "plt.plot(history['val_accuracy'])\n",
    "plt.title('Model Accuracy')\n",
    "plt.ylabel('Accuracy')\n",
    "plt.xlabel('Epoch')\n",
    "plt.legend(['Train', 'Test'], loc= 'upper left')"
   ]
  },
  {
   "cell_type": "code",
   "execution_count": 15,
   "id": "dc6b22cd",
   "metadata": {},
   "outputs": [
    {
     "data": {
      "text/plain": [
       "<matplotlib.legend.Legend at 0x207d805af10>"
      ]
     },
     "execution_count": 15,
     "metadata": {},
     "output_type": "execute_result"
    },
    {
     "data": {
      "image/png": "[encoded data removed]",
      "text/plain": [
       "<Figure size 432x288 with 1 Axes>"
      ]
     },
     "metadata": {
      "needs_background": "light"
     },
     "output_type": "display_data"
    }
   ],
   "source": [
    "# Loss\n",
    "plt.plot(history['loss'])\n",
    "plt.plot(history['val_loss'])\n",
    "plt.title('Model Loss')\n",
    "plt.ylabel('Loss')\n",
    "plt.xlabel('Epoch')\n",
    "plt.legend(['Train', 'Test'], loc= 'upper left')"
   ]
  },
  {
   "cell_type": "markdown",
   "id": "daff7fc7",
   "metadata": {},
   "source": [
    "## Making Prediction"
   ]
  },
  {
   "cell_type": "code",
   "execution_count": 16,
   "id": "3ad82461",
   "metadata": {},
   "outputs": [],
   "source": [
    "# Loading model\n",
    "model = load_model('model.h5')\n",
    "history = pickle.load(open('history.p', 'rb'))"
   ]
  },
  {
   "cell_type": "code",
   "execution_count": 17,
   "id": "f4b8d860",
   "metadata": {},
   "outputs": [],
   "source": [
    "# Prepare Input function: This function creates input features for given sentence\n",
    "def prepare_input(text):\n",
    "    x = np.zeros((1, SEQUENCE_LENGTH, chars_size))\n",
    "    for t, char in enumerate(text):\n",
    "        x[0, t, char_indices[char]] = 1.0\n",
    "    return x"
   ]
  },
  {
   "cell_type": "code",
   "execution_count": 18,
   "id": "4f369189",
   "metadata": {},
   "outputs": [],
   "source": [
    "# Sample function: This function allows us to ask our model what are the next probable characters\n",
    "def sample(preds, top_n = 3):\n",
    "    preds = np.asarray(preds).astype('float64')\n",
    "    np.seterr(divide = 'ignore')\n",
    "    preds = np.log(preds)\n",
    "    exp_preds = np.exp(preds)\n",
    "    preds = exp_preds / np.sum(exp_preds)\n",
    "    return heapq.nlargest(top_n, range(len(preds)), preds.take)"
   ]
  },
  {
   "cell_type": "code",
   "execution_count": 19,
   "id": "eb171b45",
   "metadata": {},
   "outputs": [],
   "source": [
    "# Predict Completion function: This function is used to predict next characters\n",
    "def predict_completion(text):\n",
    "    original_text = text\n",
    "    completion = ''\n",
    "    while True:\n",
    "        x = prepare_input(text)\n",
    "        preds = model.predict(x, verbose=0)[0]\n",
    "        next_index = sample(preds, top_n=1)[0]\n",
    "        next_char = indices_char[next_index]\n",
    "        text = text[1:] + next_char\n",
    "        completion += next_char\n",
    "        if len(original_text + completion) + 2 > len(original_text) and next_char == ' ':\n",
    "            return completion"
   ]
  },
  {
   "cell_type": "code",
   "execution_count": 20,
   "id": "c54957f2",
   "metadata": {},
   "outputs": [],
   "source": [
    "# Predict Completions function: This function wraps everything and allows us to predict multiple completions\n",
    "def predict_completions(text, n=3):\n",
    "    x = prepare_input(text)\n",
    "    preds = model.predict(x, verbose=0)[0]\n",
    "    next_indices = sample(preds, n)\n",
    "    return [indices_char[i] + predict_completion(text[1:] + indices_char[i]) for i in next_indices]"
   ]
  },
  {
   "cell_type": "code",
   "execution_count": 21,
   "id": "4315c4a6",
   "metadata": {},
   "outputs": [],
   "source": [
    "quotes = [\n",
    "    \"There are several people near the paveme\",\n",
    "    \"This project develops a Next Word Predicti\",\n",
    "]"
   ]
  },
  {
   "cell_type": "code",
   "execution_count": 22,
   "id": "195bf88e",
   "metadata": {},
   "outputs": [
    {
     "name": "stdout",
     "output_type": "stream",
     "text": [
      "there are several people near the paveme\n",
      "['nt ', 'r ', 'd ']\n",
      "\n",
      "this project develops next word predicti\n",
      "['ve ', 'on, ', 'ng ']\n",
      "\n"
     ]
    }
   ],
   "source": [
    "for q in quotes:\n",
    "    seq = q[:SEQUENCE_LENGTH].lower()\n",
    "    print(seq)\n",
    "    print(predict_completions(seq, 3))\n",
    "    print()"
   ]
  }
 ],
 "metadata": {
  "kernelspec": {
   "display_name": "Python 3 (ipykernel)",
   "language": "python",
   "name": "python3"
  },
  "language_info": {
   "codemirror_mode": {
    "name": "ipython",
    "version": 3
   },
   "file_extension": ".py",
   "mimetype": "text/x-python",
   "name": "python",
   "nbconvert_exporter": "python",
   "pygments_lexer": "ipython3",
   "version": "3.8.8"
  }
 },
 "nbformat": 4,
 "nbformat_minor": 5
}
